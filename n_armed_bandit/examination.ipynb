{
 "cells": [
  {
   "cell_type": "code",
   "execution_count": 1,
   "metadata": {},
   "outputs": [
    {
     "name": "stderr",
     "output_type": "stream",
     "text": [
      "c:\\Users\\Acer\\.conda\\envs\\pyt\\lib\\site-packages\\tqdm\\auto.py:21: TqdmWarning: IProgress not found. Please update jupyter and ipywidgets. See https://ipywidgets.readthedocs.io/en/stable/user_install.html\n",
      "  from .autonotebook import tqdm as notebook_tqdm\n"
     ]
    }
   ],
   "source": [
    "import numpy as np \n",
    "import matplotlib.pyplot as plt \n",
    "from n_arm_bandit import NArmedBandit\n",
    "from agent import BanditAgent\n",
    "from environment import BanditEnvironment\n",
    "import matplotlib.pyplot as plt"
   ]
  },
  {
   "cell_type": "markdown",
   "metadata": {},
   "source": [
    "# How Gaussian distribution works "
   ]
  },
  {
   "cell_type": "code",
   "execution_count": 2,
   "metadata": {},
   "outputs": [],
   "source": [
    "sample1 = np.random.normal(loc=10, scale=10, size=(1000))"
   ]
  },
  {
   "cell_type": "code",
   "execution_count": 3,
   "metadata": {},
   "outputs": [
    {
     "data": {
      "image/png": "[encoded data removed]",
      "text/plain": [
       "<Figure size 640x480 with 1 Axes>"
      ]
     },
     "metadata": {},
     "output_type": "display_data"
    }
   ],
   "source": [
    "count, bins, _ = plt.hist(sample1, 30, density=True)\n",
    "plt.plot(bins, 1/(10 * np.sqrt(2 * np.pi)) *\n",
    "               np.exp( - (bins - 10)**2 / (2 * 10**2) ),\n",
    "         linewidth=2, color='r')\n",
    "plt.show()"
   ]
  },
  {
   "cell_type": "code",
   "execution_count": 4,
   "metadata": {},
   "outputs": [
    {
     "name": "stdout",
     "output_type": "stream",
     "text": [
      "Max: 38.72079775135153 || Min: -19.92889737379025 || Mean: 9.711393019369\n"
     ]
    }
   ],
   "source": [
    "print(f\"Max: {sample1.max()} || Min: {sample1.min()} || Mean: {sample1.mean()}\")"
   ]
  },
  {
   "cell_type": "markdown",
   "metadata": {},
   "source": [
    "# Examination of each lever "
   ]
  },
  {
   "cell_type": "code",
   "execution_count": 5,
   "metadata": {},
   "outputs": [],
   "source": [
    "bandit = NArmedBandit(arms=10, reel_numbers=3)"
   ]
  },
  {
   "cell_type": "code",
   "execution_count": 6,
   "metadata": {},
   "outputs": [
    {
     "ename": "FileNotFoundError",
     "evalue": "[Errno 2] No such file or directory: './scoreboard.npy'",
     "output_type": "error",
     "traceback": [
      "\u001b[1;31m---------------------------------------------------------------------------\u001b[0m",
      "\u001b[1;31mFileNotFoundError\u001b[0m                         Traceback (most recent call last)",
      "Cell \u001b[1;32mIn[6], line 1\u001b[0m\n\u001b[1;32m----> 1\u001b[0m scoreboard \u001b[38;5;241m=\u001b[39m \u001b[43mnp\u001b[49m\u001b[38;5;241;43m.\u001b[39;49m\u001b[43mload\u001b[49m\u001b[43m(\u001b[49m\u001b[38;5;124;43m\"\u001b[39;49m\u001b[38;5;124;43m./scoreboard.npy\u001b[39;49m\u001b[38;5;124;43m\"\u001b[39;49m\u001b[43m)\u001b[49m\n",
      "File \u001b[1;32mc:\\Users\\Acer\\.conda\\envs\\pyt\\lib\\site-packages\\numpy\\lib\\npyio.py:427\u001b[0m, in \u001b[0;36mload\u001b[1;34m(file, mmap_mode, allow_pickle, fix_imports, encoding, max_header_size)\u001b[0m\n\u001b[0;32m    425\u001b[0m     own_fid \u001b[38;5;241m=\u001b[39m \u001b[38;5;28;01mFalse\u001b[39;00m\n\u001b[0;32m    426\u001b[0m \u001b[38;5;28;01melse\u001b[39;00m:\n\u001b[1;32m--> 427\u001b[0m     fid \u001b[38;5;241m=\u001b[39m stack\u001b[38;5;241m.\u001b[39menter_context(\u001b[38;5;28;43mopen\u001b[39;49m\u001b[43m(\u001b[49m\u001b[43mos_fspath\u001b[49m\u001b[43m(\u001b[49m\u001b[43mfile\u001b[49m\u001b[43m)\u001b[49m\u001b[43m,\u001b[49m\u001b[43m \u001b[49m\u001b[38;5;124;43m\"\u001b[39;49m\u001b[38;5;124;43mrb\u001b[39;49m\u001b[38;5;124;43m\"\u001b[39;49m\u001b[43m)\u001b[49m)\n\u001b[0;32m    428\u001b[0m     own_fid \u001b[38;5;241m=\u001b[39m \u001b[38;5;28;01mTrue\u001b[39;00m\n\u001b[0;32m    430\u001b[0m \u001b[38;5;66;03m# Code to distinguish from NumPy binary files and pickles.\u001b[39;00m\n",
      "\u001b[1;31mFileNotFoundError\u001b[0m: [Errno 2] No such file or directory: './scoreboard.npy'"
     ]
    }
   ],
   "source": [
    "scoreboard = np.load(\"./scoreboard.npy\")"
   ]
  },
  {
   "cell_type": "code",
   "execution_count": 31,
   "metadata": {},
   "outputs": [
    {
     "name": "stdout",
     "output_type": "stream",
     "text": [
      "Examine lever number: 0\n",
      "symbol: ~ has count: 0.0\n",
      "symbol: ! has count: 0.0\n",
      "symbol: @ has count: 901.0\n",
      "symbol: # has count: 861.0\n",
      "symbol: $ has count: 0.0\n",
      "symbol: % has count: 0.0\n",
      "symbol: ^ has count: 0.0\n",
      "symbol: & has count: 0.0\n",
      "symbol: * has count: 0.0\n",
      "symbol: S has count: 0.0\n",
      "Examine lever number: 1\n",
      "symbol: ~ has count: 798.0\n",
      "symbol: ! has count: 254.0\n",
      "symbol: @ has count: 12.0\n",
      "symbol: # has count: 0.0\n",
      "symbol: $ has count: 0.0\n",
      "symbol: % has count: 0.0\n",
      "symbol: ^ has count: 0.0\n",
      "symbol: & has count: 14.0\n",
      "symbol: * has count: 260.0\n",
      "symbol: S has count: 756.0\n",
      "Examine lever number: 2\n",
      "symbol: ~ has count: 877.0\n",
      "symbol: ! has count: 1.0\n",
      "symbol: @ has count: 0.0\n",
      "symbol: # has count: 0.0\n",
      "symbol: $ has count: 0.0\n",
      "symbol: % has count: 0.0\n",
      "symbol: ^ has count: 0.0\n",
      "symbol: & has count: 0.0\n",
      "symbol: * has count: 2.0\n",
      "symbol: S has count: 868.0\n",
      "Examine lever number: 3\n",
      "symbol: ~ has count: 0.0\n",
      "symbol: ! has count: 0.0\n",
      "symbol: @ has count: 0.0\n",
      "symbol: # has count: 39.0\n",
      "symbol: $ has count: 852.0\n",
      "symbol: % has count: 875.0\n",
      "symbol: ^ has count: 31.0\n",
      "symbol: & has count: 0.0\n",
      "symbol: * has count: 0.0\n",
      "symbol: S has count: 0.0\n",
      "Examine lever number: 4\n",
      "symbol: ~ has count: 745.0\n",
      "symbol: ! has count: 767.0\n",
      "symbol: @ has count: 304.0\n",
      "symbol: # has count: 37.0\n",
      "symbol: $ has count: 2.0\n",
      "symbol: % has count: 0.0\n",
      "symbol: ^ has count: 0.0\n",
      "symbol: & has count: 0.0\n",
      "symbol: * has count: 38.0\n",
      "symbol: S has count: 298.0\n",
      "Examine lever number: 5\n",
      "symbol: ~ has count: 845.0\n",
      "symbol: ! has count: 66.0\n",
      "symbol: @ has count: 1.0\n",
      "symbol: # has count: 0.0\n",
      "symbol: $ has count: 0.0\n",
      "symbol: % has count: 0.0\n",
      "symbol: ^ has count: 0.0\n",
      "symbol: & has count: 1.0\n",
      "symbol: * has count: 66.0\n",
      "symbol: S has count: 836.0\n",
      "Examine lever number: 6\n",
      "symbol: ~ has count: 0.0\n",
      "symbol: ! has count: 0.0\n",
      "symbol: @ has count: 0.0\n",
      "symbol: # has count: 0.0\n",
      "symbol: $ has count: 8.0\n",
      "symbol: % has count: 186.0\n",
      "symbol: ^ has count: 819.0\n",
      "symbol: & has count: 830.0\n",
      "symbol: * has count: 169.0\n",
      "symbol: S has count: 6.0\n",
      "Examine lever number: 7\n",
      "symbol: ~ has count: 0.0\n",
      "symbol: ! has count: 0.0\n",
      "symbol: @ has count: 1.0\n",
      "symbol: # has count: 18.0\n",
      "symbol: $ has count: 274.0\n",
      "symbol: % has count: 753.0\n",
      "symbol: ^ has count: 792.0\n",
      "symbol: & has count: 268.0\n",
      "symbol: * has count: 18.0\n",
      "symbol: S has count: 2.0\n",
      "Examine lever number: 8\n",
      "symbol: ~ has count: 0.0\n",
      "symbol: ! has count: 0.0\n",
      "symbol: @ has count: 0.0\n",
      "symbol: # has count: 2.0\n",
      "symbol: $ has count: 211.0\n",
      "symbol: % has count: 798.0\n",
      "symbol: ^ has count: 804.0\n",
      "symbol: & has count: 186.0\n",
      "symbol: * has count: 3.0\n",
      "symbol: S has count: 0.0\n",
      "Examine lever number: 9\n",
      "symbol: ~ has count: 0.0\n",
      "symbol: ! has count: 0.0\n",
      "symbol: @ has count: 0.0\n",
      "symbol: # has count: 0.0\n",
      "symbol: $ has count: 0.0\n",
      "symbol: % has count: 0.0\n",
      "symbol: ^ has count: 856.0\n",
      "symbol: & has count: 865.0\n",
      "symbol: * has count: 0.0\n",
      "symbol: S has count: 0.0\n"
     ]
    }
   ],
   "source": [
    "for i in range(scoreboard.shape[0]): \n",
    "    print(f\"Examine lever number: {i}\")\n",
    "    for j in range(scoreboard.shape[1]): \n",
    "        print(f\"symbol: {bandit.symbols[j]} has count: {scoreboard[i][j]}\")"
   ]
  },
  {
   "cell_type": "markdown",
   "metadata": {},
   "source": [
    "# Creating the agent"
   ]
  },
  {
   "cell_type": "code",
   "execution_count": 32,
   "metadata": {},
   "outputs": [],
   "source": [
    "agent = BanditAgent(name=\"agent\", actions=[0, 1, 2, 3, 4, 5, 6, 7, 8, 9], epsilon=0.1)"
   ]
  },
  {
   "cell_type": "markdown",
   "metadata": {},
   "source": [
    "# Creating the training environment "
   ]
  },
  {
   "cell_type": "code",
   "execution_count": 33,
   "metadata": {},
   "outputs": [],
   "source": [
    "environment = BanditEnvironment(agent=agent, bandit=bandit)"
   ]
  },
  {
   "cell_type": "markdown",
   "metadata": {},
   "source": [
    "# Initiate training "
   ]
  },
  {
   "cell_type": "code",
   "execution_count": 34,
   "metadata": {},
   "outputs": [
    {
     "name": "stdout",
     "output_type": "stream",
     "text": [
      "| - - - - - |\n",
      "| - - - - - |\n",
      "| * | * | * |\n",
      "| - - - - - |\n",
      "| - - - - - |\n",
      "| # | ~ | * |[2K| * | S | * |\n",
      "\n",
      "\n"
     ]
    }
   ],
   "source": [
    "history = np.array(environment.train(steps=1000))\n",
    "\n",
    "np.save(\"./history_2.npy\", history)"
   ]
  }
 ],
 "metadata": {
  "kernelspec": {
   "display_name": "pyt",
   "language": "python",
   "name": "python3"
  },
  "language_info": {
   "codemirror_mode": {
    "name": "ipython",
    "version": 3
   },
   "file_extension": ".py",
   "mimetype": "text/x-python",
   "name": "python",
   "nbconvert_exporter": "python",
   "pygments_lexer": "ipython3",
   "version": "3.9.0"
  }
 },
 "nbformat": 4,
 "nbformat_minor": 2
}
