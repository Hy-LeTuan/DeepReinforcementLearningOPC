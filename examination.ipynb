{
 "cells": [
  {
   "cell_type": "code",
   "execution_count": 1,
   "metadata": {},
   "outputs": [
    {
     "name": "stderr",
     "output_type": "stream",
     "text": [
      "c:\\Users\\Acer\\.conda\\envs\\pyt\\lib\\site-packages\\tqdm\\auto.py:21: TqdmWarning: IProgress not found. Please update jupyter and ipywidgets. See https://ipywidgets.readthedocs.io/en/stable/user_install.html\n",
      "  from .autonotebook import tqdm as notebook_tqdm\n"
     ]
    }
   ],
   "source": [
    "import numpy as np \n",
    "import matplotlib.pyplot as plt \n",
    "from n_arm_bandit import NArmedBandit\n",
    "from agent import BanditAgent\n",
    "from environment import BanditEnvironment"
   ]
  },
  {
   "cell_type": "markdown",
   "metadata": {},
   "source": [
    "# How Gaussian distribution works "
   ]
  },
  {
   "cell_type": "code",
   "execution_count": 2,
   "metadata": {},
   "outputs": [],
   "source": [
    "sample1 = np.random.normal(loc=10, scale=10, size=(1000))"
   ]
  },
  {
   "cell_type": "code",
   "execution_count": 3,
   "metadata": {},
   "outputs": [
    {
     "data": {
      "image/png": "[encoded data removed]",
      "text/plain": [
       "<Figure size 640x480 with 1 Axes>"
      ]
     },
     "metadata": {},
     "output_type": "display_data"
    }
   ],
   "source": [
    "count, bins, _ = plt.hist(sample1, 30, density=True)\n",
    "plt.plot(bins, 1/(10 * np.sqrt(2 * np.pi)) *\n",
    "               np.exp( - (bins - 10)**2 / (2 * 10**2) ),\n",
    "         linewidth=2, color='r')\n",
    "plt.show()"
   ]
  },
  {
   "cell_type": "code",
   "execution_count": 4,
   "metadata": {},
   "outputs": [
    {
     "name": "stdout",
     "output_type": "stream",
     "text": [
      "Max: 45.999695919280846 || Min: -21.394004993394766 || Mean: 10.218839424784392\n"
     ]
    }
   ],
   "source": [
    "print(f\"Max: {sample1.max()} || Min: {sample1.min()} || Mean: {sample1.mean()}\")"
   ]
  },
  {
   "cell_type": "markdown",
   "metadata": {},
   "source": [
    "# Examination of each lever "
   ]
  },
  {
   "cell_type": "code",
   "execution_count": 5,
   "metadata": {},
   "outputs": [],
   "source": [
    "bandit = NArmedBandit(arms=10, reel_numbers=3)"
   ]
  },
  {
   "cell_type": "code",
   "execution_count": 6,
   "metadata": {},
   "outputs": [],
   "source": [
    "scoreboard = np.load(\"./scoreboard.npy\")"
   ]
  },
  {
   "cell_type": "code",
   "execution_count": 7,
   "metadata": {},
   "outputs": [
    {
     "name": "stdout",
     "output_type": "stream",
     "text": [
      "Examine lever number: 0\n",
      "symbol: ~ has count: 0.0\n",
      "symbol: ! has count: 0.0\n",
      "symbol: @ has count: 901.0\n",
      "symbol: # has count: 861.0\n",
      "symbol: $ has count: 0.0\n",
      "symbol: % has count: 0.0\n",
      "symbol: ^ has count: 0.0\n",
      "symbol: & has count: 0.0\n",
      "symbol: * has count: 0.0\n",
      "symbol: S has count: 0.0\n",
      "Examine lever number: 1\n",
      "symbol: ~ has count: 798.0\n",
      "symbol: ! has count: 254.0\n",
      "symbol: @ has count: 12.0\n",
      "symbol: # has count: 0.0\n",
      "symbol: $ has count: 0.0\n",
      "symbol: % has count: 0.0\n",
      "symbol: ^ has count: 0.0\n",
      "symbol: & has count: 14.0\n",
      "symbol: * has count: 260.0\n",
      "symbol: S has count: 756.0\n",
      "Examine lever number: 2\n",
      "symbol: ~ has count: 877.0\n",
      "symbol: ! has count: 1.0\n",
      "symbol: @ has count: 0.0\n",
      "symbol: # has count: 0.0\n",
      "symbol: $ has count: 0.0\n",
      "symbol: % has count: 0.0\n",
      "symbol: ^ has count: 0.0\n",
      "symbol: & has count: 0.0\n",
      "symbol: * has count: 2.0\n",
      "symbol: S has count: 868.0\n",
      "Examine lever number: 3\n",
      "symbol: ~ has count: 0.0\n",
      "symbol: ! has count: 0.0\n",
      "symbol: @ has count: 0.0\n",
      "symbol: # has count: 39.0\n",
      "symbol: $ has count: 852.0\n",
      "symbol: % has count: 875.0\n",
      "symbol: ^ has count: 31.0\n",
      "symbol: & has count: 0.0\n",
      "symbol: * has count: 0.0\n",
      "symbol: S has count: 0.0\n",
      "Examine lever number: 4\n",
      "symbol: ~ has count: 745.0\n",
      "symbol: ! has count: 767.0\n",
      "symbol: @ has count: 304.0\n",
      "symbol: # has count: 37.0\n",
      "symbol: $ has count: 2.0\n",
      "symbol: % has count: 0.0\n",
      "symbol: ^ has count: 0.0\n",
      "symbol: & has count: 0.0\n",
      "symbol: * has count: 38.0\n",
      "symbol: S has count: 298.0\n",
      "Examine lever number: 5\n",
      "symbol: ~ has count: 845.0\n",
      "symbol: ! has count: 66.0\n",
      "symbol: @ has count: 1.0\n",
      "symbol: # has count: 0.0\n",
      "symbol: $ has count: 0.0\n",
      "symbol: % has count: 0.0\n",
      "symbol: ^ has count: 0.0\n",
      "symbol: & has count: 1.0\n",
      "symbol: * has count: 66.0\n",
      "symbol: S has count: 836.0\n",
      "Examine lever number: 6\n",
      "symbol: ~ has count: 0.0\n",
      "symbol: ! has count: 0.0\n",
      "symbol: @ has count: 0.0\n",
      "symbol: # has count: 0.0\n",
      "symbol: $ has count: 8.0\n",
      "symbol: % has count: 186.0\n",
      "symbol: ^ has count: 819.0\n",
      "symbol: & has count: 830.0\n",
      "symbol: * has count: 169.0\n",
      "symbol: S has count: 6.0\n",
      "Examine lever number: 7\n",
      "symbol: ~ has count: 0.0\n",
      "symbol: ! has count: 0.0\n",
      "symbol: @ has count: 1.0\n",
      "symbol: # has count: 18.0\n",
      "symbol: $ has count: 274.0\n",
      "symbol: % has count: 753.0\n",
      "symbol: ^ has count: 792.0\n",
      "symbol: & has count: 268.0\n",
      "symbol: * has count: 18.0\n",
      "symbol: S has count: 2.0\n",
      "Examine lever number: 8\n",
      "symbol: ~ has count: 0.0\n",
      "symbol: ! has count: 0.0\n",
      "symbol: @ has count: 0.0\n",
      "symbol: # has count: 2.0\n",
      "symbol: $ has count: 211.0\n",
      "symbol: % has count: 798.0\n",
      "symbol: ^ has count: 804.0\n",
      "symbol: & has count: 186.0\n",
      "symbol: * has count: 3.0\n",
      "symbol: S has count: 0.0\n",
      "Examine lever number: 9\n",
      "symbol: ~ has count: 0.0\n",
      "symbol: ! has count: 0.0\n",
      "symbol: @ has count: 0.0\n",
      "symbol: # has count: 0.0\n",
      "symbol: $ has count: 0.0\n",
      "symbol: % has count: 0.0\n",
      "symbol: ^ has count: 856.0\n",
      "symbol: & has count: 865.0\n",
      "symbol: * has count: 0.0\n",
      "symbol: S has count: 0.0\n"
     ]
    }
   ],
   "source": [
    "for i in range(scoreboard.shape[0]): \n",
    "    print(f\"Examine lever number: {i}\")\n",
    "    for j in range(scoreboard.shape[1]): \n",
    "        print(f\"symbol: {bandit.symbols[j]} has count: {scoreboard[i][j]}\")"
   ]
  },
  {
   "cell_type": "markdown",
   "metadata": {},
   "source": [
    "# Creating the agent"
   ]
  },
  {
   "cell_type": "code",
   "execution_count": 8,
   "metadata": {},
   "outputs": [],
   "source": [
    "agent = BanditAgent(name=\"agent\", actions=[0, 1, 2, 3, 4, 5, 6, 7, 8, 9], epsilon=0.1)"
   ]
  },
  {
   "cell_type": "markdown",
   "metadata": {},
   "source": [
    "# Creating the training environment "
   ]
  },
  {
   "cell_type": "code",
   "execution_count": 9,
   "metadata": {},
   "outputs": [],
   "source": [
    "environment = BanditEnvironment(agent=agent, bandit=bandit)"
   ]
  },
  {
   "cell_type": "markdown",
   "metadata": {},
   "source": [
    "# Initiate training "
   ]
  },
  {
   "cell_type": "code",
   "execution_count": 10,
   "metadata": {},
   "outputs": [
    {
     "name": "stdout",
     "output_type": "stream",
     "text": [
      "| - - - - - |\n",
      "| - - - - - |\n",
      "| @ | # | @ |\n",
      "| - - - - - |\n",
      "| - - - - - |\n",
      "| S | S | * |[2K| & | * | * |\n",
      "\n",
      "\n"
     ]
    }
   ],
   "source": [
    "history = np.array(environment.train(steps=1000))\n",
    "\n",
    "np.save(\"./history_2.npy\", history)"
   ]
  }
 ],
 "metadata": {
  "kernelspec": {
   "display_name": "pyt",
   "language": "python",
   "name": "python3"
  },
  "language_info": {
   "codemirror_mode": {
    "name": "ipython",
    "version": 3
   },
   "file_extension": ".py",
   "mimetype": "text/x-python",
   "name": "python",
   "nbconvert_exporter": "python",
   "pygments_lexer": "ipython3",
   "version": "3.9.0"
  }
 },
 "nbformat": 4,
 "nbformat_minor": 2
}
