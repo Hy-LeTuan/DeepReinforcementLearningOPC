{
 "cells": [
  {
   "cell_type": "code",
   "execution_count": 3,
   "metadata": {},
   "outputs": [],
   "source": [
    "import numpy as np \n",
    "import matplotlib.pyplot as plt "
   ]
  },
  {
   "cell_type": "code",
   "execution_count": 17,
   "metadata": {},
   "outputs": [],
   "source": [
    "sample1 = np.random.normal(loc=10, scale=100, size=(2000))"
   ]
  },
  {
   "cell_type": "code",
   "execution_count": 18,
   "metadata": {},
   "outputs": [
    {
     "data": {
      "image/png": "[encoded data removed]",
      "text/plain": [
       "<Figure size 640x480 with 1 Axes>"
      ]
     },
     "metadata": {},
     "output_type": "display_data"
    }
   ],
   "source": [
    "count, bins, _ = plt.hist(sample1, 30, density=True)\n",
    "plt.plot(bins, 1/(10 * np.sqrt(2 * np.pi)) *\n",
    "               np.exp( - (bins - 10)**2 / (2 * 10**2) ),\n",
    "         linewidth=2, color='r')\n",
    "plt.show()"
   ]
  },
  {
   "cell_type": "code",
   "execution_count": 19,
   "metadata": {},
   "outputs": [
    {
     "name": "stdout",
     "output_type": "stream",
     "text": [
      "Max: 308.99223712983985 || Min: -329.38141194009876 || Mean: 10.864223166148191\n"
     ]
    }
   ],
   "source": [
    "print(f\"Max: {sample1.max()} || Min: {sample1.min()} || Mean: {sample1.mean()}\")"
   ]
  },
  {
   "cell_type": "code",
   "execution_count": 109,
   "metadata": {},
   "outputs": [],
   "source": [
    "# 10 \n",
    "# one-armed bandit = slot machine, taking your money while only having 1 arm\n",
    "\n",
    "class TenArmedBandit: \n",
    "    def __init__(self, arms: int =10, reel_numbers:int =3): \n",
    "        \"\"\"\n",
    "        arms: number of levers \n",
    "        reel_numbers: number of slots on the machine\n",
    "        \"\"\"\n",
    "\n",
    "        self.reel_numbers = 3\n",
    "        self.symbols = np.array([\"~\", \"!\", \"@\", \"#\", \"$\", \"%\", \"^\", \"&\", \"*\", \"S\"])\n",
    "        self.symbol_count = 10\n",
    "\n",
    "        self.generate_arms(arms)\n",
    "\n",
    "    def generate_arms(self, arms) -> None: \n",
    "        # store mean and std deviation pair for distribution of different arms\n",
    "        self.mean_deviation_pairs = []\n",
    "\n",
    "        for i in range(arms): \n",
    "            mean = np.random.randint(5, 15)\n",
    "            deviation = np.random.random()\n",
    "\n",
    "            self.mean_deviation_pairs.append((mean, deviation))\n",
    "    \n",
    "    def pull_lever(self, index: int) -> np.array: \n",
    "        if index < 0 or index >= self.symbol_count: \n",
    "            return None\n",
    "        \n",
    "        # get mean and deviation specific for each levers\n",
    "        mean, deviation = self.mean_deviation_pairs[index]\n",
    "        print(f\"Mean: {mean} || Deviation: {deviation}\")\n",
    "\n",
    "        # convert random numbers to appropriate indices\n",
    "        random_numbers = np.random.normal(loc=mean, scale=deviation, size=self.reel_numbers)\n",
    "        random_indices = [int(np.floor(num % 10)) for num in random_numbers]\n",
    "\n",
    "        return_symbols = self.symbols[random_indices]\n",
    "\n",
    "        # unallocate memory for efficient computing\n",
    "        del random_numbers\n",
    "        del random_indices\n",
    "        del mean\n",
    "        del deviation\n",
    "\n",
    "        return return_symbols\n",
    "    \n",
    "    def display_result(self, result: np.array) -> None: \n",
    "        machine_width = 2 * len(result) - 1\n",
    "\n",
    "        # calculate display row\n",
    "        display_row = \"|\"\n",
    "\n",
    "        for i in range(len(result)): \n",
    "            if i == 0: \n",
    "                display_row += f\" {result[i]}\"\n",
    "            else: \n",
    "                display_row += f\" | {result[i]}\"\n",
    "         \n",
    "        display_row += \" |\"\n",
    "\n",
    "        print(f\"| {'- ' * machine_width}|\")\n",
    "        print(f\"| {'- ' * machine_width}|\")\n",
    "        print(display_row)\n",
    "        print(f\"| {'- ' * machine_width}|\")\n",
    "        print(f\"| {'- ' * machine_width}|\")"
   ]
  },
  {
   "cell_type": "code",
   "execution_count": 110,
   "metadata": {},
   "outputs": [],
   "source": [
    "bandit = TenArmedBandit(arms=10, reel_numbers=3)"
   ]
  },
  {
   "cell_type": "code",
   "execution_count": 111,
   "metadata": {},
   "outputs": [
    {
     "name": "stdout",
     "output_type": "stream",
     "text": [
      "Mean: 8 || Deviation: 0.19045539495206776\n",
      "| - - - - - |\n",
      "| - - - - - |\n",
      "| & | * | * |\n",
      "| - - - - - |\n",
      "| - - - - - |\n"
     ]
    }
   ],
   "source": [
    "result = bandit.pull_lever(0)\n",
    "bandit.display_result(result)"
   ]
  }
 ],
 "metadata": {
  "kernelspec": {
   "display_name": "pyt",
   "language": "python",
   "name": "python3"
  },
  "language_info": {
   "codemirror_mode": {
    "name": "ipython",
    "version": 3
   },
   "file_extension": ".py",
   "mimetype": "text/x-python",
   "name": "python",
   "nbconvert_exporter": "python",
   "pygments_lexer": "ipython3",
   "version": "3.9.0"
  }
 },
 "nbformat": 4,
 "nbformat_minor": 2
}
