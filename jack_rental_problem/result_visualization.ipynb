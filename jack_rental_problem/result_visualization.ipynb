{
 "cells": [
  {
   "cell_type": "code",
   "execution_count": 64,
   "metadata": {},
   "outputs": [],
   "source": [
    "import numpy as np \n",
    "from tqdm import tqdm \n",
    "from environment import Enviroment\n",
    "import matplotlib.pyplot as plt "
   ]
  },
  {
   "cell_type": "markdown",
   "metadata": {},
   "source": [
    "# Value Table"
   ]
  },
  {
   "cell_type": "code",
   "execution_count": 42,
   "metadata": {},
   "outputs": [],
   "source": [
    "value_function = np.load(\"./theoretical/value_function.npy\")"
   ]
  },
  {
   "cell_type": "code",
   "execution_count": 43,
   "metadata": {},
   "outputs": [
    {
     "data": {
      "text/plain": [
       "array([[ 5.61344469,  8.9999211 , 11.75661048, 13.83162614],\n",
       "       [ 8.99481133, 12.38128889, 15.13797997, 17.21299667],\n",
       "       [11.8889956 , 15.27547344, 18.03216484, 20.10718163],\n",
       "       [14.03204792, 17.41852942, 20.17522531, 22.25024349]])"
      ]
     },
     "execution_count": 43,
     "metadata": {},
     "output_type": "execute_result"
    }
   ],
   "source": [
    "value_function"
   ]
  },
  {
   "cell_type": "markdown",
   "metadata": {},
   "source": [
    "# Actions"
   ]
  },
  {
   "cell_type": "code",
   "execution_count": 44,
   "metadata": {},
   "outputs": [],
   "source": [
    "actions = np.load(\"./theoretical/actions.npy\") "
   ]
  },
  {
   "cell_type": "markdown",
   "metadata": {},
   "source": [
    "# Policy visualization"
   ]
  },
  {
   "cell_type": "code",
   "execution_count": 45,
   "metadata": {},
   "outputs": [],
   "source": [
    "policy_history = np.load(\"./theoretical/history.npy\")"
   ]
  },
  {
   "cell_type": "code",
   "execution_count": 46,
   "metadata": {},
   "outputs": [
    {
     "name": "stdout",
     "output_type": "stream",
     "text": [
      "[[[0 0]\n",
      "  [0 0]\n",
      "  [0 0]\n",
      "  [0 0]]\n",
      "\n",
      " [[0 0]\n",
      "  [0 0]\n",
      "  [0 0]\n",
      "  [0 0]]\n",
      "\n",
      " [[0 0]\n",
      "  [0 0]\n",
      "  [0 0]\n",
      "  [0 0]]\n",
      "\n",
      " [[0 0]\n",
      "  [0 0]\n",
      "  [0 0]\n",
      "  [0 0]]]\n",
      "[[[0 0]\n",
      "  [0 0]\n",
      "  [0 0]\n",
      "  [0 0]]\n",
      "\n",
      " [[0 0]\n",
      "  [0 0]\n",
      "  [0 0]\n",
      "  [0 0]]\n",
      "\n",
      " [[0 0]\n",
      "  [0 0]\n",
      "  [0 0]\n",
      "  [0 0]]\n",
      "\n",
      " [[0 0]\n",
      "  [0 0]\n",
      "  [0 0]\n",
      "  [0 0]]]\n"
     ]
    }
   ],
   "source": [
    "for policy in policy_history: \n",
    "    print(policy) "
   ]
  },
  {
   "cell_type": "code",
   "execution_count": 47,
   "metadata": {},
   "outputs": [],
   "source": [
    "optimal_policy = policy_history[-1]"
   ]
  },
  {
   "cell_type": "code",
   "execution_count": 48,
   "metadata": {},
   "outputs": [
    {
     "name": "stdout",
     "output_type": "stream",
     "text": [
      "[[[0 0]\n",
      "  [0 0]\n",
      "  [0 0]\n",
      "  [0 0]]\n",
      "\n",
      " [[0 0]\n",
      "  [0 0]\n",
      "  [0 0]\n",
      "  [0 0]]\n",
      "\n",
      " [[0 0]\n",
      "  [0 0]\n",
      "  [0 0]\n",
      "  [0 0]]\n",
      "\n",
      " [[0 0]\n",
      "  [0 0]\n",
      "  [0 0]\n",
      "  [0 0]]]\n"
     ]
    }
   ],
   "source": [
    "print(optimal_policy) "
   ]
  },
  {
   "cell_type": "markdown",
   "metadata": {},
   "source": [
    "# Examine the efficiency of each policy "
   ]
  },
  {
   "cell_type": "code",
   "execution_count": 49,
   "metadata": {},
   "outputs": [],
   "source": [
    "class Tester: \n",
    "    def __init__(self, cars1, cars2, cars_max, policy, actions): \n",
    "        self.cars1 = cars1\n",
    "        self.cars2 = cars2 \n",
    "        self.cars_max = cars_max\n",
    "        self.policy = policy\n",
    "        self.actions = actions\n",
    "\n",
    "    def update_cars(self, new_car_1, new_car_2): \n",
    "        self.cars1 = new_car_1\n",
    "        self.cars2 = new_car_2\n",
    "\n",
    "    def get_cars(self): \n",
    "        return (self.cars1, self.cars2)\n",
    "\n",
    "    def get_action_index(self, s): \n",
    "        action_index = self.policy[s]\n",
    "        action_index = tuple(action_index)\n",
    "        return action_index\n",
    "\n",
    "    def get_action(self, action_index): \n",
    "        return self.actions[action_index] "
   ]
  },
  {
   "cell_type": "code",
   "execution_count": 50,
   "metadata": {},
   "outputs": [],
   "source": [
    "constants = np.load(\"./theoretical/constants.npy\")\n",
    "number_of_days = 2000000"
   ]
  },
  {
   "cell_type": "code",
   "execution_count": 51,
   "metadata": {},
   "outputs": [
    {
     "data": {
      "text/plain": [
       "array([10, -2])"
      ]
     },
     "execution_count": 51,
     "metadata": {},
     "output_type": "execute_result"
    }
   ],
   "source": [
    "rewards = np.load(\"./theoretical/rewards.npy\")\n",
    "rewards"
   ]
  },
  {
   "cell_type": "code",
   "execution_count": 52,
   "metadata": {},
   "outputs": [
    {
     "data": {
      "text/plain": [
       "array([[ 0,  1,  2,  3],\n",
       "       [ 0, -1, -2, -3]])"
      ]
     },
     "execution_count": 52,
     "metadata": {},
     "output_type": "execute_result"
    }
   ],
   "source": [
    "actions"
   ]
  },
  {
   "cell_type": "code",
   "execution_count": 53,
   "metadata": {},
   "outputs": [],
   "source": [
    "max_number_of_cars, expected_request_lambda_1, expected_request_lambda_2, expected_return_lambda_1, expected_return_lambda_2 = constants"
   ]
  },
  {
   "cell_type": "code",
   "execution_count": 54,
   "metadata": {},
   "outputs": [],
   "source": [
    "environment = Enviroment(expected_request_lambda_1=expected_request_lambda_1, expected_request_lambda_2=expected_request_lambda_2,\n",
    "                             expected_return_lambda_1=expected_return_lambda_1, expected_return_lambda_2=expected_return_lambda_2, agent=None)"
   ]
  },
  {
   "cell_type": "code",
   "execution_count": 55,
   "metadata": {},
   "outputs": [],
   "source": [
    "cars1 = 2\n",
    "cars2 = 1\n",
    "\n",
    "tester_list = [] \n",
    "np.random.seed(42) \n",
    "\n",
    "for policy in policy_history: \n",
    "    tester = Tester(cars1, cars2, max_number_of_cars, policy=policy, actions=actions)\n",
    "\n",
    "    tester_list.append(tester) "
   ]
  },
  {
   "cell_type": "code",
   "execution_count": 56,
   "metadata": {},
   "outputs": [
    {
     "name": "stderr",
     "output_type": "stream",
     "text": [
      "Simulating sales for tester 0: 100%|██████████| 2000000/2000000 [00:14<00:00, 133464.51it/s]\n",
      "Simulating sales for tester 1: 100%|██████████| 2000000/2000000 [00:14<00:00, 134608.07it/s]"
     ]
    },
    {
     "name": "stdout",
     "output_type": "stream",
     "text": [
      "best policy from simulation: 0 || best policy from agent: 1\n"
     ]
    },
    {
     "name": "stderr",
     "output_type": "stream",
     "text": [
      "\n"
     ]
    }
   ],
   "source": [
    "reward_list = []\n",
    "for i, tester in enumerate(tester_list): \n",
    "    current_reward = 0.0\n",
    "\n",
    "    for d in tqdm(range(number_of_days), desc=f\"Simulating sales for tester {i}\"): \n",
    "        rental_request_1, rental_request_2 = environment.get_rental_requests()\n",
    "        customer_return_1, customer_return_2 = environment.get_customer_returns()\n",
    "\n",
    "        # current number of cars \n",
    "        cars1, cars2 = tester.get_cars()\n",
    "\n",
    "        # renting out the cars\n",
    "        cars_rented_1 = min(cars1, rental_request_1)\n",
    "        cars_rented_2 = min(cars2, rental_request_2)\n",
    "\n",
    "        # calculate reward for cars rented\n",
    "        current_reward += rewards[0] * cars_rented_1\n",
    "        current_reward += rewards[0] * cars_rented_2\n",
    "\n",
    "        # calculate new car number for tomorrow\n",
    "        cars1 -= cars_rented_1\n",
    "        cars2 -= cars_rented_2\n",
    "\n",
    "        cars1 += customer_return_1\n",
    "        cars2 += customer_return_2\n",
    "\n",
    "        # set cars to not exceed limit\n",
    "        cars1 = min(cars1, tester.cars_max)\n",
    "        cars2 = min(cars2, tester.cars_max)\n",
    "\n",
    "        # select the best action based on the current policy and current state\n",
    "        action_index = tester.get_action_index((cars1, cars2))\n",
    "        number_of_cars_moved = tester.get_action(action_index) \n",
    "\n",
    "        # cost of moving cars\n",
    "        cost = rewards[1] * np.abs(number_of_cars_moved)\n",
    "        current_reward += cost\n",
    "\n",
    "        # update the cars to the number of cars moved\n",
    "        cars1 += number_of_cars_moved\n",
    "        cars2 -= number_of_cars_moved\n",
    "\n",
    "        # set cars to not exceed the limit \n",
    "        cars1 = min(cars1, tester.cars_max)\n",
    "        cars2 = min(cars2, tester.cars_max)\n",
    "\n",
    "        # update new car numbers\n",
    "        tester.update_cars(cars1, cars2)\n",
    "    \n",
    "    reward_list.append(current_reward)\n",
    "\n",
    "reward_list = np.array(reward_list) \n",
    "best_policy = np.argmax(reward_list) \n",
    "print(f\"best policy from simulation: {best_policy} || best policy from agent: {len(policy_history) - 1}\")"
   ]
  },
  {
   "cell_type": "code",
   "execution_count": 57,
   "metadata": {},
   "outputs": [
    {
     "data": {
      "text/plain": [
       "array([74160580., 74143980.])"
      ]
     },
     "execution_count": 57,
     "metadata": {},
     "output_type": "execute_result"
    }
   ],
   "source": [
    "reward_list"
   ]
  },
  {
   "cell_type": "code",
   "execution_count": 58,
   "metadata": {},
   "outputs": [
    {
     "name": "stdout",
     "output_type": "stream",
     "text": [
      "Difference between best in simulation and optimal policy: 16600.0\n"
     ]
    }
   ],
   "source": [
    "difference = reward_list[best_policy] - reward_list[-1]\n",
    "print(f\"Difference between best in simulation and optimal policy: {difference}\")"
   ]
  },
  {
   "cell_type": "markdown",
   "metadata": {},
   "source": [
    "# Visualize policies as a contour"
   ]
  },
  {
   "cell_type": "code",
   "execution_count": 85,
   "metadata": {},
   "outputs": [
    {
     "name": "stdout",
     "output_type": "stream",
     "text": [
      "exception contour\n",
      "exception contour\n"
     ]
    },
    {
     "data": {
      "image/png": "[encoded data removed]",
      "text/plain": [
       "<Figure size 640x480 with 2 Axes>"
      ]
     },
     "metadata": {},
     "output_type": "display_data"
    }
   ],
   "source": [
    "fig, axes = plt.subplots(nrows=1, ncols=2)\n",
    "\n",
    "x = np.arange(0, max_number_of_cars + 1)\n",
    "y = np.arange(0, max_number_of_cars + 1)\n",
    "\n",
    "for policy_index, policy in enumerate(policy_history): \n",
    "    z = np.zeros_like(policy) \n",
    "\n",
    "    for i in range(policy.shape[0]): \n",
    "        for j in range(policy.shape[1]): \n",
    "            state = (i, j) \n",
    "            action_index = policy[state] \n",
    "            action = actions[action_index[0], action_index[1]]\n",
    "\n",
    "            z[state] = action\n",
    "\n",
    "    try: \n",
    "        axes[policy_index].contour([x, y], z)\n",
    "    except Exception as e: \n",
    "        axes[policy_index].contour([x, y], z, levels=[0])\n",
    "        print(\"exception contour\")\n",
    "\n",
    "plt.show()"
   ]
  }
 ],
 "metadata": {
  "kernelspec": {
   "display_name": "pyt",
   "language": "python",
   "name": "python3"
  },
  "language_info": {
   "codemirror_mode": {
    "name": "ipython",
    "version": 3
   },
   "file_extension": ".py",
   "mimetype": "text/x-python",
   "name": "python",
   "nbconvert_exporter": "python",
   "pygments_lexer": "ipython3",
   "version": "3.9.0"
  }
 },
 "nbformat": 4,
 "nbformat_minor": 2
}
